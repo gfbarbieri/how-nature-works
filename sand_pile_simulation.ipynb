{
 "cells": [
  {
   "cell_type": "markdown",
   "metadata": {},
   "source": [
    "# Sandpile Game"
   ]
  },
  {
   "cell_type": "code",
   "execution_count": 1,
   "metadata": {},
   "outputs": [],
   "source": [
    "import numpy as np\n",
    "import pandas as pd\n",
    "%matplotlib inline"
   ]
  },
  {
   "cell_type": "markdown",
   "metadata": {},
   "source": [
    "### Functions"
   ]
  },
  {
   "cell_type": "code",
   "execution_count": 2,
   "metadata": {},
   "outputs": [],
   "source": [
    "def select_element(size):\n",
    "    '''\n",
    "    Select a random element from the array.\n",
    "    '''\n",
    "    x = np.random.choice(size[0])\n",
    "    y = np.random.choice(size[1])\n",
    "    \n",
    "    return x,y"
   ]
  },
  {
   "cell_type": "code",
   "execution_count": 3,
   "metadata": {},
   "outputs": [],
   "source": [
    "def collapse(array, element):\n",
    "    '''\n",
    "    Determine if a neighbor exists, then increment it by 1.\n",
    "    '''\n",
    "    #Determine shape.\n",
    "    shp = a.shape\n",
    "    \n",
    "    #Set Selected Element to Zero\n",
    "    a[element[0],element[1]] = 0\n",
    "    \n",
    "    #Increment neighbors, if they exist.\n",
    "\n",
    "    #North Neighbor.\n",
    "    if element[0] != 0:\n",
    "        a[element[0]-1, element[1]] += 1\n",
    "\n",
    "    #South Neighbor\n",
    "    if element[0] != shp[0] - 1:\n",
    "        a[element[0]+1, element[1]] += 1\n",
    "\n",
    "    #East Neighbor\n",
    "    if element[1] != shp[1] - 1:\n",
    "        a[element[0], element[1]+1] += 1\n",
    "    \n",
    "    #West Neighbor\n",
    "    if element[1] != 0:\n",
    "        a[element[0], element[1]-1] += 1"
   ]
  },
  {
   "cell_type": "markdown",
   "metadata": {},
   "source": [
    "### Algorithm"
   ]
  },
  {
   "cell_type": "code",
   "execution_count": 14,
   "metadata": {},
   "outputs": [],
   "source": [
    "#Initiate grain counter.\n",
    "num_grains = 1\n",
    "\n",
    "#Initiate sand pile.\n",
    "a = np.zeros((50,50))\n",
    "\n",
    "#Initiate avalanche data collector.\n",
    "avalanche_info = []\n",
    "\n",
    "while num_grains <= 1000000:\n",
    "    #Initiate size of avalanche.\n",
    "    size_of_avalanches = 0\n",
    "\n",
    "    #Select where to drop grain of sand.\n",
    "    element = select_element(a.shape)\n",
    "\n",
    "    #Drop grain of sand.\n",
    "    a[element] += 1\n",
    "\n",
    "    #Check if avalanche is to take place anywhere in the pile.\n",
    "    avalanches = np.any(np.where(a >= 4, True, False))\n",
    "\n",
    "    #Collapse the pile at each location with at least 4 sand grains.\n",
    "    while avalanches == True:\n",
    "        col_x, col_y = np.where(a >= 4)\n",
    "\n",
    "        for i in range(0, len(col_x)):\n",
    "            collapse(a, (col_x[i], col_y[i]))\n",
    "            size_of_avalanches += 1\n",
    "\n",
    "        avalanches = np.any(np.where(a >= 4, True, False))\n",
    "\n",
    "    #Collect data and increment grain counter.\n",
    "    avalanche_info.append([num_grains, size_of_avalanches])\n",
    "    num_grains += 1"
   ]
  },
  {
   "cell_type": "markdown",
   "metadata": {},
   "source": [
    "### Analysis"
   ]
  },
  {
   "cell_type": "code",
   "execution_count": 15,
   "metadata": {},
   "outputs": [],
   "source": [
    "ava_df = pd.DataFrame(data=avalanche_info, columns=['grains','avalanche_size'])\n",
    "ava_df = ava_df.loc[ava_df['avalanche_size'] > 0]"
   ]
  },
  {
   "cell_type": "code",
   "execution_count": 16,
   "metadata": {},
   "outputs": [],
   "source": [
    "count_df = ava_df.groupby(by=['avalanche_size'], as_index=False).agg('count')"
   ]
  },
  {
   "cell_type": "code",
   "execution_count": 17,
   "metadata": {},
   "outputs": [],
   "source": [
    "count_df['log_count'] = np.log(count_df['grains'])\n",
    "count_df['log_size'] = np.log(count_df['avalanche_size'])"
   ]
  },
  {
   "cell_type": "code",
   "execution_count": 18,
   "metadata": {},
   "outputs": [
    {
     "data": {
      "text/plain": [
       "<matplotlib.axes._subplots.AxesSubplot at 0x26b6ca69cc0>"
      ]
     },
     "execution_count": 18,
     "metadata": {},
     "output_type": "execute_result"
    },
    {
     "data": {
      "image/png": "[encoded data removed]",
      "text/plain": [
       "<Figure size 432x288 with 1 Axes>"
      ]
     },
     "metadata": {
      "needs_background": "light"
     },
     "output_type": "display_data"
    }
   ],
   "source": [
    "count_df.plot(x='log_size', y='log_count')"
   ]
  },
  {
   "cell_type": "code",
   "execution_count": null,
   "metadata": {},
   "outputs": [],
   "source": []
  }
 ],
 "metadata": {
  "hide_input": false,
  "kernelspec": {
   "display_name": "Python 3",
   "language": "python",
   "name": "python3"
  },
  "language_info": {
   "codemirror_mode": {
    "name": "ipython",
    "version": 3
   },
   "file_extension": ".py",
   "mimetype": "text/x-python",
   "name": "python",
   "nbconvert_exporter": "python",
   "pygments_lexer": "ipython3",
   "version": "3.7.3"
  },
  "varInspector": {
   "cols": {
    "lenName": 16,
    "lenType": 16,
    "lenVar": 40
   },
   "kernels_config": {
    "python": {
     "delete_cmd_postfix": "",
     "delete_cmd_prefix": "del ",
     "library": "var_list.py",
     "varRefreshCmd": "print(var_dic_list())"
    },
    "r": {
     "delete_cmd_postfix": ") ",
     "delete_cmd_prefix": "rm(",
     "library": "var_list.r",
     "varRefreshCmd": "cat(var_dic_list()) "
    }
   },
   "types_to_exclude": [
    "module",
    "function",
    "builtin_function_or_method",
    "instance",
    "_Feature"
   ],
   "window_display": false
  }
 },
 "nbformat": 4,
 "nbformat_minor": 2
}
