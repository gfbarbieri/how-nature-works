{
 "cells": [
  {
   "cell_type": "code",
   "execution_count": null,
   "metadata": {},
   "outputs": [],
   "source": [
    "import agentpy as ap\n",
    "import math"
   ]
  },
  {
   "cell_type": "code",
   "execution_count": null,
   "metadata": {},
   "outputs": [],
   "source": [
    "class Sandpile(ap.Model):\n",
    "\n",
    "    def setup(self):\n",
    "\n",
    "        # Create agents (location for a pile).\n",
    "        self.agents = ap.AgentList(self, self.p['size'])\n",
    "\n",
    "        # Initialize avalanche size.\n",
    "        self.num_pile_collapses = 0\n",
    "        self.num_grains_moved = 0\n",
    "\n",
    "        # Create grid (area) and place agents on them. Fill grid completely\n",
    "        self.grid = ap.Grid(self, shape=[int(math.sqrt(self.p['size']))]*2, torus=True)\n",
    "        self.grid.add_agents(self.agents, random=True, empty=True)\n",
    "\n",
    "        # Agent properties: grains = 0; collapse = 0.\n",
    "        self.agents.grains = 0\n",
    "        self.agents.collapse = False\n",
    "\n",
    "    def step(self):\n",
    "        \n",
    "        # Reset counters.\n",
    "        self.num_pile_collapses = 0\n",
    "        self.num_grains_moved = 0\n",
    "        self.agents.collapse = False\n",
    "        \n",
    "        #######################################################################\n",
    "        # DROP GRAIN\n",
    "        #######################################################################\n",
    "        \n",
    "        # Randomly select an agent on a grid and increment their grain\n",
    "        # pile by 1.\n",
    "        self.agents.random(n=1).grains += 1\n",
    "\n",
    "        #######################################################################\n",
    "        # AVALANCHE\n",
    "        #######################################################################\n",
    "\n",
    "        # A collapse occurs when an agent's grain piles exceed grain limits.\n",
    "        #\n",
    "        # In the case of a collapse, the collapsing pile spills a single grain\n",
    "        # onto a number of neighbors. This process contains until the grid does\n",
    "        # not contain any agents exceeding grain limits.\n",
    "        while any(self.agents.select(self.agents.grains > self.p['grain_limit'])):\n",
    "\n",
    "            # Find the agents on the grid exceeding grain limits.\n",
    "            agnts = self.agents.select(self.agents.grains > self.p['grain_limit'])\n",
    "\n",
    "            # Record the size of the avalanche as the number of agents with a\n",
    "            # gain pile larger than the grain limit. This count untils to\n",
    "            # accumulate until the grid does not have any more agents with grain\n",
    "            # piles above the limit. The resulting count is the size of the\n",
    "            # avalanche: the total number of collapsing piles that resulted from\n",
    "            # dropping a single grain onto the grid.\n",
    "            # \n",
    "            # Another natural way to count the size of the avalanche is to count\n",
    "            # the total number of grains that moved to different piles as a\n",
    "            # result of the collapses. Since the number of grains that shift\n",
    "            # piles as a result of the collapse is fixed, then the total number\n",
    "            # of grains that move between piles is a factor of the total number\n",
    "            # of piles that collapse. Therefore, there is no need to count both\n",
    "            # the number of collapsing piles and the number of moving grains\n",
    "            # since the latter is a constant factor of the former.\n",
    "            # \n",
    "            # Lastly, if a grain pile collapses more than once during a string\n",
    "            # of collapses, then it is counted more than once. For example, X's\n",
    "            # pile collapses onto neighboring piles. Enough neighboring piles\n",
    "            # collapse onto X's pile to cause X's pile to exceed grain limit\n",
    "            # again and collapse onto neighboring piles.\n",
    "            self.num_pile_collapses += len(agnts)\n",
    "\n",
    "            # For each agent exceeding grain limits, select a neighbor and from their six\n",
    "            # possible neighbors and add one grain to their piles.\n",
    "            for agnt in agnts:\n",
    "                agnt.collapse = True\n",
    "\n",
    "                for neighbor in self.grid.neighbors(agnts).random(n=self.p['neighbors'], replace=False):\n",
    "                    if agnt.grains > 0:\n",
    "                        agnt.grains -= 1\n",
    "                        neighbor.grains += 1\n",
    "                        self.num_grain_moved += 1\n",
    "                    \n",
    "    def end(self):\n",
    "        pass"
   ]
  },
  {
   "cell_type": "code",
   "execution_count": null,
   "metadata": {},
   "outputs": [],
   "source": [
    "parameters = {\n",
    "    'seed': 92,       # Seed for RNG.\n",
    "    'steps': 10,      # Number of steps.\n",
    "    'size': 9,        # Number of agents and ^2 grid size. Choose size with rational root.\n",
    "    'grain_limit': 4, # Limit connected with neighbors.\n",
    "    'neighbors': 4    # Max number of neighbors is 6.\n",
    " }\n",
    "\n",
    "model = Sandpile(parameters)\n",
    "results = model.run()"
   ]
  }
 ],
 "metadata": {
  "hide_input": false,
  "kernelspec": {
   "display_name": "Python 3",
   "language": "python",
   "name": "python3"
  },
  "language_info": {
   "codemirror_mode": {
    "name": "ipython",
    "version": 3
   },
   "file_extension": ".py",
   "mimetype": "text/x-python",
   "name": "python",
   "nbconvert_exporter": "python",
   "pygments_lexer": "ipython3",
   "version": "3.10.9"
  },
  "varInspector": {
   "cols": {
    "lenName": 16,
    "lenType": 16,
    "lenVar": 40
   },
   "kernels_config": {
    "python": {
     "delete_cmd_postfix": "",
     "delete_cmd_prefix": "del ",
     "library": "var_list.py",
     "varRefreshCmd": "print(var_dic_list())"
    },
    "r": {
     "delete_cmd_postfix": ") ",
     "delete_cmd_prefix": "rm(",
     "library": "var_list.r",
     "varRefreshCmd": "cat(var_dic_list()) "
    }
   },
   "types_to_exclude": [
    "module",
    "function",
    "builtin_function_or_method",
    "instance",
    "_Feature"
   ],
   "window_display": false
  }
 },
 "nbformat": 4,
 "nbformat_minor": 2
}
