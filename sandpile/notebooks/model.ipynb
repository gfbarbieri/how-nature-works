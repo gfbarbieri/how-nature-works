{
 "cells": [
  {
   "cell_type": "code",
   "execution_count": null,
   "metadata": {},
   "outputs": [],
   "source": [
    "import agentpy as ap\n",
    "import math"
   ]
  },
  {
   "cell_type": "code",
   "execution_count": null,
   "metadata": {},
   "outputs": [],
   "source": [
    "class Sandpile(ap.Model):\n",
    "\n",
    "    def setup(self):\n",
    "\n",
    "        # Create agents (location for a pile).\n",
    "        self.agents = ap.AgentList(self, self.p['size'])\n",
    "\n",
    "        # Initialize avalanche size.\n",
    "        self.num_pile_collapses = 0\n",
    "        self.num_grains_moved = 0\n",
    "\n",
    "        # Create grid (area) and place agents on them. Fill grid completely\n",
    "        self.grid = ap.Grid(self, shape=[int(math.sqrt(self.p['size']))]*2, torus=True)\n",
    "        self.grid.add_agents(self.agents, random=True, empty=True)\n",
    "\n",
    "        # Agent properties: grains = 0; collapse = 0.\n",
    "        self.agents.grains = 0\n",
    "        self.agents.collapse = False\n",
    "\n",
    "    def step(self):\n",
    "        \n",
    "        # Reset counters.\n",
    "        self.num_pile_collapses = 0\n",
    "        self.num_grains_moved = 0\n",
    "        self.agents.collapse = False\n",
    "        \n",
    "        # Randomly select an agent on a grid and increment their grain\n",
    "        # pile by 1.\n",
    "        self.agents.random(n=1).grains += 1\n",
    "\n",
    "        # Collapse agent grain piles that exceed grain limits. A collapse\n",
    "        # involves the agent giving away one grain to four of six possible\n",
    "        # neighbors. Keep collpasing agent grain piles until the grid does not\n",
    "        # contain any agents exceeding grain limits.\n",
    "        while any(self.agents.select(self.agents.grains > self.p['grain_limit'])):\n",
    "\n",
    "            # Find the agents on the grid exceeding grain limits.\n",
    "            agnts = self.agents.select(self.agents.grains > self.p['grain_limit'])\n",
    "\n",
    "            # Size of the avalanche is equal to the number of collapsing piles.\n",
    "            # Ultimately, the number of collapsing piles is equal to the number\n",
    "            # of agents with grain piles exceeding the limit.\n",
    "\n",
    "            # If a cell collapses more than once during a string of collapses,\n",
    "            # then it is counted more than once. For example, X agent's pile\n",
    "            # collapses, causing enough of their neighbors to collapse, that X\n",
    "            # reaches the limit again and collapses.\n",
    "            self.num_pile_collapses += len(agnts)\n",
    "\n",
    "            # For each agent exceeding grain limits, select frpm their six\n",
    "            # neighbors and them one grain.\n",
    "            for agnt in agnts:\n",
    "                agnt.collapse = True\n",
    "\n",
    "                for neighbor in self.grid.neighbors(agnts).random(n=self.p['neighbors'], replace=False):\n",
    "                    if agnt.grains > 0:\n",
    "                        agnt.grains -= 1\n",
    "                        neighbor.grains += 1\n",
    "                        self.num_grain_moved += 1\n",
    "                    \n",
    "    def end(self):\n",
    "        pass"
   ]
  },
  {
   "cell_type": "code",
   "execution_count": null,
   "metadata": {},
   "outputs": [],
   "source": [
    "parameters = {\n",
    "    'seed': 92,       # Seed for RNG.\n",
    "    'steps': 10,      # Number of steps.\n",
    "    'size': 9,        # Number of agents and ^2 grid size. Choose size with rational root.\n",
    "    'grain_limit': 4, # Limit connected with neighbors.\n",
    "    'neighbors': 4    # Max number of neighbors is 6.\n",
    " }\n",
    "\n",
    "\n",
    "model = Sandpile(parameters)\n",
    "results = model.run()\n",
    "# results.save(exp_name=exp_name, path='data')"
   ]
  }
 ],
 "metadata": {
  "hide_input": false,
  "kernelspec": {
   "display_name": "Python 3",
   "language": "python",
   "name": "python3"
  },
  "language_info": {
   "codemirror_mode": {
    "name": "ipython",
    "version": 3
   },
   "file_extension": ".py",
   "mimetype": "text/x-python",
   "name": "python",
   "nbconvert_exporter": "python",
   "pygments_lexer": "ipython3",
   "version": "3.10.9"
  },
  "varInspector": {
   "cols": {
    "lenName": 16,
    "lenType": 16,
    "lenVar": 40
   },
   "kernels_config": {
    "python": {
     "delete_cmd_postfix": "",
     "delete_cmd_prefix": "del ",
     "library": "var_list.py",
     "varRefreshCmd": "print(var_dic_list())"
    },
    "r": {
     "delete_cmd_postfix": ") ",
     "delete_cmd_prefix": "rm(",
     "library": "var_list.r",
     "varRefreshCmd": "cat(var_dic_list()) "
    }
   },
   "types_to_exclude": [
    "module",
    "function",
    "builtin_function_or_method",
    "instance",
    "_Feature"
   ],
   "window_display": false
  }
 },
 "nbformat": 4,
 "nbformat_minor": 2
}
