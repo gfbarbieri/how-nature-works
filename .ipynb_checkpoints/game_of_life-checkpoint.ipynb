{
 "cells": [
  {
   "cell_type": "markdown",
   "metadata": {},
   "source": [
    "# The Game of Life\n",
    "\n",
    "On each square, there may or may not live an individual. A live individual is represented by  a 1, or a blue square. The absence of an individual is represented by a 0, or a light gray square.\n",
    "\n",
    "At each time step:\n",
    "1. The total number of live individuals in the nine-cell neighborhood of a given cell is counted.\n",
    "2. If that number is greater than 3, an individual at that cell dies.\n",
    "3. If the number is 1 or 0, an individual at that cell dies.\n",
    "4. A new individual is born on an empty cell only if there are three live neighbors."
   ]
  },
  {
   "cell_type": "code",
   "execution_count": 1,
   "metadata": {},
   "outputs": [],
   "source": [
    "import numpy as np\n",
    "import pandas as pd\n",
    "import matplotlib.pyplot as plt\n",
    "from matplotlib import colors\n",
    "\n",
    "%matplotlib inline"
   ]
  },
  {
   "cell_type": "code",
   "execution_count": 2,
   "metadata": {},
   "outputs": [],
   "source": [
    "def count_neighbors(array, cell):\n",
    "    count_neighbors = 0\n",
    "\n",
    "    #Set all 8 possible neighbors and the 1 central cell.\n",
    "    moore_neighbors = ((-1, -1), (-1, 0), (-1, 1), (0, -1), (0, 1), (1, -1), (1, 0), (1, 1))\n",
    "\n",
    "    #Print neighbors\n",
    "    for neighbor in moore_neighbors:\n",
    "        x_adj = cell[0] + neighbor[0]\n",
    "        y_adj = cell[1] + neighbor[1]\n",
    "\n",
    "        #Determine if at x-borders\n",
    "        if x_adj < 0 or x_adj >= array.shape[0]:\n",
    "            over_x_border = True\n",
    "        else:\n",
    "            over_x_border = False\n",
    "\n",
    "        #Determine if at y-borders\n",
    "        if y_adj < 0 or y_adj >= array.shape[1]:\n",
    "            over_y_border = True\n",
    "        else:\n",
    "            over_y_border = False\n",
    "\n",
    "        if over_x_border == False and over_y_border == False:\n",
    "            count_neighbors += array[x_adj, y_adj]\n",
    "\n",
    "    return count_neighbors"
   ]
  },
  {
   "cell_type": "code",
   "execution_count": 3,
   "metadata": {
    "scrolled": false
   },
   "outputs": [],
   "source": [
    "def iterate_through_grid(grid):\n",
    "    test_grid = np.copy(grid)\n",
    "    \n",
    "    n, m = grid.shape\n",
    "    \n",
    "    for row in np.arange(0, n):\n",
    "        for col in np.arange(0, m):\n",
    "\n",
    "            count = count_neighbors(grid, (row, col))\n",
    "\n",
    "            #If cell has a living individual and the nine-cell neighborgood contains more than 3 individuals, the individual\n",
    "            #at the cell dies.\n",
    "            if grid[row, col] == 1 and count > 3:\n",
    "                test_grid[row, col] = 0\n",
    "\n",
    "            #If an individual is the only individual in their nine-cell neighborhood, the individual at the cell dies.\n",
    "            if grid[row, col] == 1 and (count <= 1):\n",
    "                test_grid[row, col] = 0\n",
    "\n",
    "            #If no individual is living at the cell, but the nine-cell neighborhood contains exactly 3 individuals,\n",
    "            #then an individual is born at the cell.\n",
    "            if grid[row, col] == 0 and count == 3:\n",
    "                test_grid[row, col] = 1\n",
    "\n",
    "    return test_grid"
   ]
  },
  {
   "cell_type": "code",
   "execution_count": 4,
   "metadata": {},
   "outputs": [],
   "source": [
    "np.random.seed(1)\n",
    "start_grid = np.random.randint(low=0, high=2, size=(100,100))\n",
    "\n",
    "iterations = 10\n",
    "\n",
    "for i in range(iterations):\n",
    "    if i == 0:\n",
    "        end_grid = iterate_through_grid(np.copy(start_grid))\n",
    "    else:\n",
    "        inter_grid = np.copy(end_grid)\n",
    "        end_grid = iterate_through_grid(np.copy(inter_grid))"
   ]
  },
  {
   "cell_type": "code",
   "execution_count": 5,
   "metadata": {},
   "outputs": [
    {
     "data": {
      "image/png": "[encoded data removed]",
      "text/plain": [
       "<Figure size 432x288 with 1 Axes>"
      ]
     },
     "metadata": {
      "needs_background": "light"
     },
     "output_type": "display_data"
    }
   ],
   "source": [
    "fig, ax = plt.subplots()\n",
    "ax.imshow(end_grid, cmap=colors.ListedColormap(['grey','blue']))\n",
    "\n",
    "plt.show()"
   ]
  }
 ],
 "metadata": {
  "hide_input": false,
  "kernelspec": {
   "display_name": "Python 3",
   "language": "python",
   "name": "python3"
  },
  "language_info": {
   "codemirror_mode": {
    "name": "ipython",
    "version": 3
   },
   "file_extension": ".py",
   "mimetype": "text/x-python",
   "name": "python",
   "nbconvert_exporter": "python",
   "pygments_lexer": "ipython3",
   "version": "3.7.4"
  },
  "varInspector": {
   "cols": {
    "lenName": 16,
    "lenType": 16,
    "lenVar": 40
   },
   "kernels_config": {
    "python": {
     "delete_cmd_postfix": "",
     "delete_cmd_prefix": "del ",
     "library": "var_list.py",
     "varRefreshCmd": "print(var_dic_list())"
    },
    "r": {
     "delete_cmd_postfix": ") ",
     "delete_cmd_prefix": "rm(",
     "library": "var_list.r",
     "varRefreshCmd": "cat(var_dic_list()) "
    }
   },
   "types_to_exclude": [
    "module",
    "function",
    "builtin_function_or_method",
    "instance",
    "_Feature"
   ],
   "window_display": false
  }
 },
 "nbformat": 4,
 "nbformat_minor": 2
}
